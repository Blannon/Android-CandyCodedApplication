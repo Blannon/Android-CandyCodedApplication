{
  "nbformat": 4,
  "nbformat_minor": 0,
  "metadata": {
    "colab": {
      "provenance": [],
      "authorship_tag": "ABX9TyOREddDBExfQjggenEza6AQ",
      "include_colab_link": true
    },
    "kernelspec": {
      "name": "python3",
      "display_name": "Python 3"
    },
    "language_info": {
      "name": "python"
    }
  },
  "cells": [
    {
      "cell_type": "markdown",
      "metadata": {
        "id": "view-in-github",
        "colab_type": "text"
      },
      "source": [
        "<a href=\"https://colab.research.google.com/github/Blannon/Android-CandyCodedApplication/blob/master/Predictive_Model_for_Traffic_Accident_Prevention.ipynb\" target=\"_parent\"><img src=\"https://colab.research.google.com/assets/colab-badge.svg\" alt=\"Open In Colab\"/></a>"
      ]
    },
    {
      "cell_type": "code",
      "execution_count": 10,
      "metadata": {
        "colab": {
          "base_uri": "https://localhost:8080/"
        },
        "id": "-2AGIq5J88mT",
        "outputId": "6f7b099a-b01d-4fe0-aa97-b6ff31648b55"
      },
      "outputs": [
        {
          "output_type": "stream",
          "name": "stdout",
          "text": [
            "Drive already mounted at /content/drive; to attempt to forcibly remount, call drive.mount(\"/content/drive\", force_remount=True).\n",
            "CSV files created successfully.\n"
          ]
        }
      ],
      "source": [
        "from google.colab import drive\n",
        "\n",
        "drive.mount('/content/drive')\n",
        "\n",
        "file_path1 = '/content/drive/MyDrive/dataset1.csv'\n",
        "data1 = \"\"\"weather,road_type,time_of_day,severity\n",
        "clear,highway,morning,2\n",
        "rainy,local_street,night,3\n",
        "snowy,highway,evening,1\n",
        "clear,highway,afternoon,2\n",
        "rainy,local_street,morning,3\n",
        "snowy,highway,night,1\"\"\"\n",
        "\n",
        "file_path2 = '/content/drive/MyDrive/dataset2.csv'\n",
        "data2 = \"\"\"weather,road_type,time_of_day,severity\n",
        "clear,local_street,morning,1\n",
        "rainy,highway,afternoon,3\n",
        "snowy,local_street,evening,2\n",
        "clear,highway,night,2\n",
        "rainy,local_street,morning,3\n",
        "snowy,highway,afternoon,1\"\"\"\n",
        "\n",
        "with open(file_path1, 'w') as f:\n",
        "    f.write(data1)\n",
        "\n",
        "with open(file_path2, 'w') as f:\n",
        "    f.write(data2)\n",
        "\n",
        "print(\"CSV files created successfully.\")\n"
      ]
    },
    {
      "cell_type": "code",
      "source": [
        "import pandas as pd\n",
        "from sklearn.model_selection import train_test_split\n",
        "from sklearn.linear_model import LinearRegression\n",
        "import joblib\n",
        "\n",
        "file_path1 = '/content/drive/MyDrive/dataset1.csv'\n",
        "data1 = pd.read_csv(file_path1)\n",
        "\n",
        "file_path2 = '/content/drive/MyDrive/dataset2.csv'\n",
        "data2 = pd.read_csv(file_path2)\n",
        "\n",
        "data = pd.concat([data1, data2], ignore_index=True)\n",
        "\n",
        "data_encoded = pd.get_dummies(data)\n",
        "\n",
        "X = data_encoded.drop(columns=['severity'])\n",
        "y = data_encoded['severity']\n",
        "\n",
        "X_train, X_test, y_train, y_test = train_test_split(X, y, test_size=0.2, random_state=42)\n",
        "\n",
        "model = LinearRegression()\n",
        "model.fit(X_train, y_train)\n",
        "\n",
        "joblib.dump(model, '/content/drive/MyDrive/accident_severity_model.pkl')\n",
        "\n",
        "feature_names = X.columns.tolist()\n",
        "\n",
        "prediction_data = pd.DataFrame({\n",
        "    'weather_clear': [1],\n",
        "    'weather_rainy': [0],\n",
        "    'weather_snowy': [0],\n",
        "    'road_type_highway': [1],\n",
        "    'road_type_local_street': [0],\n",
        "    'time_of_day_morning': [1],\n",
        "    'time_of_day_afternoon': [0],\n",
        "    'time_of_day_evening': [0],\n",
        "    'time_of_day_night': [0]\n",
        "}, columns=feature_names)\n",
        "\n",
        "predicted_severity = model.predict(prediction_data)\n",
        "\n",
        "print(\"Predicted accident severity:\", predicted_severity)\n"
      ],
      "metadata": {
        "colab": {
          "base_uri": "https://localhost:8080/"
        },
        "id": "64n_zAom_rz8",
        "outputId": "2c23f0b4-9b72-41ac-a76c-7efdf3b8dff6"
      },
      "execution_count": 15,
      "outputs": [
        {
          "output_type": "stream",
          "name": "stdout",
          "text": [
            "Predicted accident severity: [0.73913043]\n"
          ]
        }
      ]
    }
  ]
}